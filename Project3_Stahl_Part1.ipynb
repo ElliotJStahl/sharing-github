{
 "cells": [
  {
   "cell_type": "code",
   "execution_count": 2,
   "metadata": {},
   "outputs": [],
   "source": [
    "import pandas as pd\n",
    "import numpy as np"
   ]
  },
  {
   "cell_type": "code",
   "execution_count": 3,
   "metadata": {},
   "outputs": [],
   "source": [
    "def initialize_spin_lattice(N):\n",
    "    #just combined the creation of the lattice with the relationship between each electron and its\n",
    "    #neighbors. It actually cut down on hte run time. Found something like this in the same quantum textbook mentioned further down, \n",
    "    initial_spins_la = -pd.DataFrame(np.ones((N, N)))\n",
    "    \n",
    "    initial_spins_melted = pd.melt(initial_spins_la.reset_index(level=0),id_vars=[\"index\"])\n",
    "    initial_spins_melted.columns = [\"X\",\"Y\",\"spin\"]\n",
    "    initial_spins_melted.reset_index(inplace=True)\n",
    "    initial_spins_melted.set_index([\"X\", \"Y\"],inplace=True)\n",
    "    \n",
    "    initial_spins_melted[\"right_spin\"] = initial_spins_melted.groupby('Y')[\"index\"].shift(-1)\n",
    "    initial_spins_melted[\"left_spin\"] = initial_spins_melted.groupby('Y')[\"index\"].shift(1)\n",
    "    initial_spins_melted[\"up_spin\"] = initial_spins_melted.groupby('X')[\"index\"].shift(1)\n",
    "    initial_spins_melted[\"down_spin\"] = initial_spins_melted.groupby('X')[\"index\"].shift(-1)\n",
    "    \n",
    "    initial_spins_melted.sort_index(inplace=True)\n",
    "    \n",
    "    initial_spins_melted.loc[(0),\"left_spin\"] = np.array(initial_spins_melted[\"index\"][N-1])\n",
    "    initial_spins_melted.loc[(N-1),\"right_spin\"] = np.array(initial_spins_melted[\"index\"][0])\n",
    "    initial_spins_melted.loc[(slice(None),0),\"up_spin\"]  = np.array(initial_spins_melted[\"index\"][:,N-1])\n",
    "    initial_spins_melted.loc[(slice(None),N-1),\"down_spin\"] = np.array(initial_spins_melted[\"index\"][:,0])\n",
    "    \n",
    "    initial_spins_melted[\"right_spin\"]= initial_spins_melted[\"right_spin\"].astype(int)\n",
    "    initial_spins_melted[\"left_spin\"] = initial_spins_melted[\"left_spin\"].astype(int)\n",
    "    initial_spins_melted[\"up_spin\"]   = initial_spins_melted[\"up_spin\"].astype(int)\n",
    "    initial_spins_melted[\"down_spin\"] = initial_spins_melted[\"down_spin\"].astype(int)\n",
    "\n",
    "    initial_spins_melted.reset_index(inplace=True)\n",
    "    initial_spins_melted.set_index(\"index\", inplace=True)\n",
    "    \n",
    "    return initial_spins_melted"
   ]
  },
  {
   "cell_type": "code",
   "execution_count": 4,
   "metadata": {},
   "outputs": [],
   "source": [
    "def deltaE(s,sum_j,h,J):#Used to determine if the spins will flip or not\n",
    "    return 2*s*(J*sum_j + h)\n"
   ]
  },
  {
   "cell_type": "code",
   "execution_count": 5,
   "metadata": {},
   "outputs": [],
   "source": [
    "def flip(delta,T,k=1):#What does the flipping\n",
    "    delta = np.asarray(delta)\n",
    "    return np.where(np.exp(-delta/(k*T)) > np.random.uniform(),-1,1)"
   ]
  },
  {
   "cell_type": "code",
   "execution_count": 6,
   "metadata": {},
   "outputs": [],
   "source": [
    "def one_step(la,T,parityX,parityY,h=0,frac=0.7,):\n",
    "    \n",
    "    sample_spins = la.loc[(la[\"X\"] % 2 == parityX) & (la[\"Y\"] % 2 == parityY)]#Took a week to figure this out.\n",
    "    #coudnt get the predicted answers until I found something similar in a code for a quantum machanics question from my old textbook.\n",
    "    sample_spins = sample_spins.sample(frac=frac)  \n",
    "    \n",
    "    #The neighbors of each the electron are considred in this function.\n",
    "    sum_j = (la.loc[sample_spins[\"up_spin\"], \"spin\"].values+\n",
    "            la.loc[sample_spins[\"down_spin\"], \"spin\"].values+\n",
    "            la.loc[sample_spins[\"left_spin\"], \"spin\"].values+\n",
    "            la.loc[sample_spins[\"right_spin\"], \"spin\"].values)\n",
    "\n",
    "    s_i = sample_spins[\"spin\"]\n",
    "\n",
    "    delta_E = deltaE(s_i,sum_j,h=h,J=1)\n",
    "    \n",
    "    #Where the flips actually happen\n",
    "    \n",
    "    flip_array = flip(delta_E,T)\n",
    "    \n",
    "    la.loc[sample_spins.index, \"spin\"] *= flip_array\n",
    "    "
   ]
  },
  {
   "cell_type": "code",
   "execution_count": 7,
   "metadata": {},
   "outputs": [],
   "source": [
    "#The overarching code responsible for the lattice as a whole\n",
    "def get_to_equilibrium(la,T,h,frac=0.8,iteration=500):\n",
    "    for i in range(iteration): \n",
    "        parity = np.random.choice([0,1], size=2)\n",
    "        one_step(la, T, parity[0], parity[1], h, frac)"
   ]
  },
  {
   "cell_type": "code",
   "execution_count": 8,
   "metadata": {},
   "outputs": [],
   "source": [
    "#getting the magnetization is easy, while the energy requires mroe work to calculate.\n",
    "def compute_energy(la):\n",
    "    tot = 0\n",
    "    for i in la.index:\n",
    "        \n",
    "        tot = tot + 0.5 * -1 * la[\"spin\"].loc[i]*(la[\"spin\"].loc[la[\"right_spin\"].loc[i]]+\n",
    "                                                        la[\"spin\"].loc[la[\"left_spin\"].loc[i]]+\n",
    "                                                        la[\"spin\"].loc[la[\"up_spin\"].loc[i]]+\n",
    "                                                        la[\"spin\"].loc[la[\"down_spin\"].loc[i]])\n",
    "    return tot/len(la)"
   ]
  },
  {
   "cell_type": "code",
   "execution_count": 11,
   "metadata": {},
   "outputs": [],
   "source": [
    "#arrays need to be made for the magnetic field values, both ascending and descending\n",
    "h_forward = np.arange(-5, 5, 0.3)\n",
    "h_backward = np.arange(5, -5, -0.3)\n",
    "#Easy to calcula\n",
    "def compute_magnetization(x):\n",
    "    return x.mean()\n",
    "#The ferromagnet is constructed here.\n",
    "spin_lattice = initialize_spin_lattice(32)  \n",
    "\n",
    "# hold equilibirum spins for each h\n",
    "h_forward_la = pd.DataFrame(index=spin_lattice.index, columns=h_forward) \n",
    "\n",
    "\n",
    "for i in h_forward:                                         # iterate through the h values\n",
    "    get_to_equilibrium(la = spin_lattice, T = 3, h = i)     # get to equilibrium\n",
    "    \n",
    "    h_forward_[i] = spin_lattice[\"spin\"]\n",
    "    \n",
    "# store magnetization values\n",
    "hf_mag = pd.DataFrame(columns=[\"Magnetization\"],index=h_forward)         \n",
    "\n",
    "# compute magnetization for each h value\n",
    "hf_mag[\"Magnetization\"] = h_forward_la.apply(compute_magnetization)\n",
    "## initialize spin lattice\n",
    "spin_lattice = initialize_spin_lattice(32)    \n",
    "\n",
    "# create hold equilibirum spins for each h\n",
    "h_backward_la = pd.DataFrame(index=spin_lattice.index, columns=h_backward)\n",
    "\n",
    "for i in h_backward:                                       \n",
    "    get_to_equilibrium(la = spin_lattice, T = 3, h = i)    \n",
    "    \n",
    "    h_backward_la[i] = spin_lattice[\"spin\"]\n",
    "    \n",
    "#store magnetization values   \n",
    "hb_mag = pd.DataFrame(columns=[\"Magnetization\"],index=h_backward)           \n",
    "\n",
    "## compute magnetization for each h value\n",
    "hb_mag[\"Magnetization\"] = h_backward_la.apply(compute_magnetization)"
   ]
  },
  {
   "cell_type": "code",
   "execution_count": 13,
   "metadata": {},
   "outputs": [
    {
     "data": {
      "image/png": "[encoded data removed]",
      "text/plain": [
       "<Figure size 432x288 with 1 Axes>"
      ]
     },
     "metadata": {},
     "output_type": "display_data"
    }
   ],
   "source": [
    "%matplotlib inline\n",
    "import matplotlib.pyplot as plt\n",
    "\n",
    "plt.plot(hb_mag.index,hb_mag[\"Magnetization\"],label=\"backward\")\n",
    "plt.plot(hf_mag.index,hf_mag[\"Magnetization\"],label=\"forward\")\n",
    "plt.xlabel(\"External Magnetic Field $h$\")\n",
    "plt.ylabel(\"Magnetization\")\n",
    "plt.axvline(linestyle='--',alpha=0.1)\n",
    "plt.legend()\n",
    "plt.show()"
   ]
  }
 ],
 "metadata": {
  "kernelspec": {
   "display_name": "Python 3",
   "language": "python",
   "name": "python3"
  },
  "language_info": {
   "codemirror_mode": {
    "name": "ipython",
    "version": 3
   },
   "file_extension": ".py",
   "mimetype": "text/x-python",
   "name": "python",
   "nbconvert_exporter": "python",
   "pygments_lexer": "ipython3",
   "version": "3.6.5"
  }
 },
 "nbformat": 4,
 "nbformat_minor": 2
}
